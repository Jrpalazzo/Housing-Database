{
 "cells": [
  {
   "cell_type": "code",
   "execution_count": 1,
   "metadata": {},
   "outputs": [],
   "source": [
    "import sqlite3\n",
    "import pandas as pd\n",
    "import numpy as np"
   ]
  },
  {
   "cell_type": "code",
   "execution_count": 2,
   "metadata": {},
   "outputs": [
    {
     "data": {
      "text/plain": [
       "<sqlite3.Cursor at 0x25666e16260>"
      ]
     },
     "execution_count": 2,
     "metadata": {},
     "output_type": "execute_result"
    }
   ],
   "source": [
    "# Create a connection to the database. File will be created if it doesn't already exist\n",
    "conn = sqlite3.connect('./Census.db')\n",
    "\n",
    "curs = conn.cursor()\n",
    "\n",
    "#always keep foregin_keys on when chaning data\n",
    "curs.execute(\"PRAGMA foreign_keys = off;\")\n"
   ]
  },
  {
   "cell_type": "code",
   "execution_count": 3,
   "metadata": {},
   "outputs": [],
   "source": [
    "#Create the tables\n",
    "\n",
    "curs.execute(\"DROP TABLE IF EXISTS tLocation;\")\n",
    "curs.execute(\"DROP TABLE IF EXISTS tHousing;\")\n",
    "curs.execute(\"DROP TABLE IF EXISTS tEmployment\")\n",
    "curs.execute(\"DROP TABLE IF EXISTS tIncome\")\n",
    "\n",
    "#Prof smith uses a county_id  \n",
    "\n",
    "# Start creating tables\n",
    "curs.execute(\"\"\"CREATE TABLE tLocation(\n",
    "                ID TEXT NOT NULL,\n",
    "                ID2 INTEGER NOT NULL,\n",
    "                county TEXT NOT NULL,\n",
    "                state TEXT NOT NULL,\n",
    "                PRIMARY KEY(ID, ID2)\n",
    "                );\"\"\")\n",
    "\n",
    "\n",
    "curs.execute(\"\"\"CREATE TABLE tHousing(\n",
    "                ID TEXT NOT NULL,\n",
    "                ID2 INTEGER NOT NULL,\n",
    "                year INTEGER NOT NULL,\n",
    "                housing_estimate INTEGER NOT NULL,\n",
    "                PRIMARY KEY(year, ID, ID2),\n",
    "                FOREIGN KEY (ID) REFERENCES tLocation(ID),\n",
    "                FOREIGN KEY (ID2) REFERENCES tLocation(ID2)\n",
    "                );\"\"\")\n",
    "\n",
    "#REFERENCES tCounty(county_id)\n",
    "curs.execute(\"\"\"CREATE TABLE tEmployment(\n",
    "                ID TEXT NOT NULL,\n",
    "                ID2 INTEGER NOT NULL,\n",
    "                total_estimate INTEGER NOT NULL,\n",
    "                total_margin INTEGER NOT NULL,\n",
    "                labor_estimate INTEGER NOT NULL,\n",
    "                labor_margin INTEGER NOT NULL,\n",
    "                employment_estimate INTEGER NOT NULL,\n",
    "                employment_margin INTEGER NOT NULL,\n",
    "                unemployment_estimate INTEGER NOT NULL,\n",
    "                unemployment_margin INTEGER NOT NULL,\n",
    "                year INTEGER NOT NULL,\n",
    "                PRIMARY KEY(year, ID, ID2),\n",
    "                FOREIGN KEY (ID) REFERENCES tLocation(ID)\n",
    "                FOREIGN KEY (ID2) REFERENCES tLocation(ID2)\n",
    "                );\"\"\")\n",
    "\n",
    "curs.execute(\"\"\"CREATE TABLE tIncome(\n",
    "                ID TEXT NOT NULL,\n",
    "                ID2 INTEGER NOT NULL,\n",
    "                median_estimate INTEGER NOT NULL,\n",
    "                mean_estimate INTEGER NOT NULL,\n",
    "                year INTEGER NOT NULL,\n",
    "                PRIMARY KEY(year, ID, ID2),\n",
    "                FOREIGN KEY (ID) REFERENCES tLocation(ID),\n",
    "                FOREIGN KEY (ID2) REFERENCES tLocation(ID2)\n",
    "                );\"\"\")\n",
    "conn.close()"
   ]
  },
  {
   "cell_type": "code",
   "execution_count": null,
   "metadata": {},
   "outputs": [],
   "source": []
  }
 ],
 "metadata": {
  "kernelspec": {
   "display_name": "Python 3",
   "language": "python",
   "name": "python3"
  },
  "language_info": {
   "codemirror_mode": {
    "name": "ipython",
    "version": 3
   },
   "file_extension": ".py",
   "mimetype": "text/x-python",
   "name": "python",
   "nbconvert_exporter": "python",
   "pygments_lexer": "ipython3",
   "version": "3.7.3"
  }
 },
 "nbformat": 4,
 "nbformat_minor": 2
}
